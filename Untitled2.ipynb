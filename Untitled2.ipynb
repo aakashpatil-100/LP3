{
  "nbformat": 4,
  "nbformat_minor": 0,
  "metadata": {
    "colab": {
      "name": "Untitled2.ipynb",
      "provenance": []
    },
    "kernelspec": {
      "name": "python3",
      "display_name": "Python 3"
    },
    "language_info": {
      "name": "python"
    }
  },
  "cells": [
    {
      "cell_type": "code",
      "source": [
        "import numpy as np\n",
        "import pandas as pd\n",
        "import matplotlib.pyplot as plt"
      ],
      "metadata": {
        "id": "SI2yhpmXn8Ma"
      },
      "execution_count": 21,
      "outputs": []
    },
    {
      "cell_type": "code",
      "source": [
        "P1=[0.1,0.6] \n",
        "P2=[0.15,0.71] \n",
        "P3=[0.08,0.9] \n",
        "P4=[0.16,0.85] \n",
        "P5=[0.2,0.3] \n",
        "P6=[0.25,0.5] \n",
        "P7=[0.24,0.1] \n",
        "P8=[0.3,0.2]\n",
        "x = [P1,P2,P3,P4,P5,P6,P7,P8]\n",
        "x=np.array(x)"
      ],
      "metadata": {
        "id": "o6q8su6pn8FT"
      },
      "execution_count": 22,
      "outputs": []
    },
    {
      "cell_type": "code",
      "source": [
        "from sklearn.cluster import KMeans"
      ],
      "metadata": {
        "id": "_vS3Op30q2iV"
      },
      "execution_count": 23,
      "outputs": []
    },
    {
      "cell_type": "code",
      "source": [
        "kmeans = KMeans(n_clusters=2,init = 'k-means++',n_init=10,random_state=0, max_iter=300)\n",
        "y_kmeans = kmeans.fit_predict(x)"
      ],
      "metadata": {
        "id": "AlymOu_r13kn"
      },
      "execution_count": 24,
      "outputs": []
    },
    {
      "cell_type": "code",
      "source": [
        "plt.scatter(P1[0],P1[1],c='black',label = 'P1')\n",
        "plt.scatter(P2[0],P2[1],c='black',label = 'P2', marker='s',s=100)\n",
        "plt.scatter(P3[0],P3[1],c='black',label = 'P3', marker='1',s=100)\n",
        "plt.scatter(P4[0],P4[1],c='black',label = 'P4', marker='2',s=100)\n",
        "plt.scatter(P5[0],P5[1],c='black',label = 'P5', marker='3',s=100)\n",
        "plt.scatter(P6[0],P6[1],c='black',label = 'P6', marker='4',s=100)\n",
        "plt.scatter(P7[0],P7[1],c='black',label = 'P7', marker='o',s=100)\n",
        "plt.scatter(P8[0],P8[1],c='black',label = 'P8', marker='x',s=100)\n",
        "plt.title('points in dataset')\n",
        "plt.legend()"
      ],
      "metadata": {
        "colab": {
          "base_uri": "https://localhost:8080/",
          "height": 298
        },
        "id": "qM7vJ0G513hS",
        "outputId": "7aedd133-2147-4397-a65f-0c899cef967d"
      },
      "execution_count": 28,
      "outputs": [
        {
          "output_type": "execute_result",
          "data": {
            "text/plain": [
              "<matplotlib.legend.Legend at 0x7f529ef272d0>"
            ]
          },
          "metadata": {},
          "execution_count": 28
        },
        {
          "output_type": "display_data",
          "data": {
            "text/plain": [
              "<Figure size 432x288 with 1 Axes>"
            ],
            "image/png": "[encoded data removed]"
          },
          "metadata": {
            "needs_background": "light"
          }
        }
      ]
    },
    {
      "cell_type": "code",
      "source": [
        "plt.scatter(x[y_kmeans==0,0], x[y_kmeans==0,1], c = 'red', s= 100, label = 'cluster 1')\n",
        "plt.scatter(x[y_kmeans==1,0],x[y_kmeans==1,1],c = 'blue', s=100, label = 'cluster 2')\n",
        "plt.scatter(kmeans.cluster_centers_[:,0],kmeans.cluster_centers_[:,1], c='yellow', s=300, label ='centroids')\n",
        "plt.legend()\n",
        "plt.scatter(P6[0],P6[1],c='black', label = 'P6')"
      ],
      "metadata": {
        "colab": {
          "base_uri": "https://localhost:8080/",
          "height": 282
        },
        "id": "9jcLEU0e13eg",
        "outputId": "2a93dc58-9720-46d5-fb8e-20e994ff8f94"
      },
      "execution_count": 33,
      "outputs": [
        {
          "output_type": "execute_result",
          "data": {
            "text/plain": [
              "<matplotlib.collections.PathCollection at 0x7f529eea2990>"
            ]
          },
          "metadata": {},
          "execution_count": 33
        },
        {
          "output_type": "display_data",
          "data": {
            "text/plain": [
              "<Figure size 432x288 with 1 Axes>"
            ],
            "image/png": "[encoded data removed]"
          },
          "metadata": {
            "needs_background": "light"
          }
        }
      ]
    },
    {
      "cell_type": "code",
      "source": [
        "kmeans.cluster_centers_[:,[0,1]]"
      ],
      "metadata": {
        "colab": {
          "base_uri": "https://localhost:8080/"
        },
        "id": "tJNW9MR913UR",
        "outputId": "932ad0b9-987f-405b-f830-f23049ad6b1e"
      },
      "execution_count": 34,
      "outputs": [
        {
          "output_type": "execute_result",
          "data": {
            "text/plain": [
              "array([[0.2475, 0.275 ],\n",
              "       [0.1225, 0.765 ]])"
            ]
          },
          "metadata": {},
          "execution_count": 34
        }
      ]
    },
    {
      "cell_type": "markdown",
      "source": [
        "## ML1"
      ],
      "metadata": {
        "id": "VPfWG53b1coZ"
      }
    },
    {
      "cell_type": "code",
      "source": [
        "import pandas as pd\n",
        "import numpy as np\n",
        "import matplotlib.pyplot as plt"
      ],
      "metadata": {
        "id": "v53oUvkdt6-k"
      },
      "execution_count": 1,
      "outputs": []
    },
    {
      "cell_type": "code",
      "source": [
        "x = np.array([10,9,2,15,10,16,11,16])\n",
        "y = np.array([95,80,10,50,45,98,38,93])"
      ],
      "metadata": {
        "id": "soLiC2A-t67T"
      },
      "execution_count": 18,
      "outputs": []
    },
    {
      "cell_type": "code",
      "source": [
        "plt.xlabel(\"No. of hrs\")\n",
        "plt.ylabel(\"Risk score\")\n",
        "plt.plot(x,y,'+',color='red')"
      ],
      "metadata": {
        "colab": {
          "base_uri": "https://localhost:8080/",
          "height": 296
        },
        "id": "E17NuCiWt65C",
        "outputId": "42ecd5a0-294d-414a-ef2f-af4ceb2cb737"
      },
      "execution_count": 19,
      "outputs": [
        {
          "output_type": "execute_result",
          "data": {
            "text/plain": [
              "[<matplotlib.lines.Line2D at 0x7fd5a30b6d50>]"
            ]
          },
          "metadata": {},
          "execution_count": 19
        },
        {
          "output_type": "display_data",
          "data": {
            "text/plain": [
              "<Figure size 432x288 with 1 Axes>"
            ],
            "image/png": "[encoded data removed]"
          },
          "metadata": {
            "needs_background": "light"
          }
        }
      ]
    },
    {
      "cell_type": "code",
      "source": [
        "def getcoeff(x,y):\n",
        "  mean_x = np.mean(x)\n",
        "  mean_y = np.mean(y)\n",
        "  n = len(x)\n",
        "  numer = 0\n",
        "  denom = 0\n",
        "  for i in range(n):\n",
        "    numer+=(x[i]-mean_x)*(y[i]-mean_y)\n",
        "    denom+=(x[i]-mean_x)**2\n",
        "  b1 = numer/denom\n",
        "  b0 = mean_y - (b1*mean_x)\n",
        "  return b0,b1"
      ],
      "metadata": {
        "id": "hj1BaE5Xt62E"
      },
      "execution_count": 20,
      "outputs": []
    },
    {
      "cell_type": "code",
      "source": [
        "b=getcoeff(x,y)\n",
        "print (b[0],b[1])"
      ],
      "metadata": {
        "colab": {
          "base_uri": "https://localhost:8080/"
        },
        "id": "pZDOyjw5t6zz",
        "outputId": "79d12d8f-67fb-43a4-b061-36c071c46637"
      },
      "execution_count": 21,
      "outputs": [
        {
          "output_type": "stream",
          "name": "stdout",
          "text": [
            "12.584627964022893 4.58789860997547\n"
          ]
        }
      ]
    },
    {
      "cell_type": "code",
      "source": [
        "plt.xlabel(\"No. of hrs\")\n",
        "plt.ylabel(\"Risk score\")\n",
        "plt.plot(x,y,'+',color='red')\n",
        "y_pred = b[0] + b[1]*x\n",
        "plt.plot(x,y_pred,color='blue')"
      ],
      "metadata": {
        "colab": {
          "base_uri": "https://localhost:8080/",
          "height": 296
        },
        "id": "n11PiWvjt6w7",
        "outputId": "32c4d73e-bc61-48a4-8af6-6c1a9800c7d2"
      },
      "execution_count": 22,
      "outputs": [
        {
          "output_type": "execute_result",
          "data": {
            "text/plain": [
              "[<matplotlib.lines.Line2D at 0x7fd5a304cf10>]"
            ]
          },
          "metadata": {},
          "execution_count": 22
        },
        {
          "output_type": "display_data",
          "data": {
            "text/plain": [
              "<Figure size 432x288 with 1 Axes>"
            ],
            "image/png": "[encoded data removed]"
          },
          "metadata": {
            "needs_background": "light"
          }
        }
      ]
    },
    {
      "cell_type": "code",
      "source": [
        ""
      ],
      "metadata": {
        "id": "bSnB2ZI_t6qf"
      },
      "execution_count": null,
      "outputs": []
    },
    {
      "cell_type": "markdown",
      "source": [
        "##ML2"
      ],
      "metadata": {
        "id": "1uj3vtT80MkG"
      }
    },
    {
      "cell_type": "code",
      "source": [
        "import numpy as np\n",
        "import pandas as pd"
      ],
      "metadata": {
        "id": "gYS08agU0REx"
      },
      "execution_count": 39,
      "outputs": []
    },
    {
      "cell_type": "code",
      "source": [
        "dataset = [\n",
        "            ['<21', 'High', 'Male', 'Single', 'No'],\n",
        "            ['<21', 'High', 'Male', 'Married', 'No'],\n",
        "            ['21-35', 'High', 'Male', 'Single', 'Yes'],\n",
        "            ['>35', 'Medium', 'Male', 'Single', 'Yes'],\n",
        "            ['>35', 'Low', 'Female', 'Single', 'Yes'],\n",
        "            ['>35', 'Low', 'Female', 'Married', 'No'],\n",
        "            ['21-35', 'Low', 'Female', 'Married', 'Yes'],\n",
        "            ['<21', 'Medium', 'Male', 'Single', 'No'],\n",
        "            ['<21', 'Low', 'Female', 'Married', 'Yes'],\n",
        "            ['>35', 'Medium', 'Female', 'Single', 'Yes'],\n",
        "            ['<21', 'Medium', 'Female', 'Married', 'Yes'],\n",
        "            ['21-35', 'Medium', 'Male', 'Married', 'Yes'],\n",
        "            ['21-35', 'High', 'Female', 'Single', 'Yes'],\n",
        "            ['>35', 'Medium', 'Male', 'Married', 'No']\n",
        "]"
      ],
      "metadata": {
        "id": "dfTYY2XP_yHL"
      },
      "execution_count": 40,
      "outputs": []
    },
    {
      "cell_type": "code",
      "source": [
        "columns = ['Age', 'Income', 'Gender', 'Marital Status', 'Buys']\n",
        "df = pd.DataFrame(dataset,columns=columns)\n",
        "df"
      ],
      "metadata": {
        "colab": {
          "base_uri": "https://localhost:8080/",
          "height": 488
        },
        "id": "ILhBLYmv_1uO",
        "outputId": "539bfd6a-c211-432b-92d8-90d4e77f4aca"
      },
      "execution_count": 41,
      "outputs": [
        {
          "output_type": "execute_result",
          "data": {
            "text/plain": [
              "      Age  Income  Gender Marital Status Buys\n",
              "0     <21    High    Male         Single   No\n",
              "1     <21    High    Male        Married   No\n",
              "2   21-35    High    Male         Single  Yes\n",
              "3     >35  Medium    Male         Single  Yes\n",
              "4     >35     Low  Female         Single  Yes\n",
              "5     >35     Low  Female        Married   No\n",
              "6   21-35     Low  Female        Married  Yes\n",
              "7     <21  Medium    Male         Single   No\n",
              "8     <21     Low  Female        Married  Yes\n",
              "9     >35  Medium  Female         Single  Yes\n",
              "10    <21  Medium  Female        Married  Yes\n",
              "11  21-35  Medium    Male        Married  Yes\n",
              "12  21-35    High  Female         Single  Yes\n",
              "13    >35  Medium    Male        Married   No"
            ],
            "text/html": [
              "\n",
              "  <div id=\"df-7f1afa22-c352-4faf-b206-5aef21627e1f\">\n",
              "    <div class=\"colab-df-container\">\n",
              "      <div>\n",
              "<style scoped>\n",
              "    .dataframe tbody tr th:only-of-type {\n",
              "        vertical-align: middle;\n",
              "    }\n",
              "\n",
              "    .dataframe tbody tr th {\n",
              "        vertical-align: top;\n",
              "    }\n",
              "\n",
              "    .dataframe thead th {\n",
              "        text-align: right;\n",
              "    }\n",
              "</style>\n",
              "<table border=\"1\" class=\"dataframe\">\n",
              "  <thead>\n",
              "    <tr style=\"text-align: right;\">\n",
              "      <th></th>\n",
              "      <th>Age</th>\n",
              "      <th>Income</th>\n",
              "      <th>Gender</th>\n",
              "      <th>Marital Status</th>\n",
              "      <th>Buys</th>\n",
              "    </tr>\n",
              "  </thead>\n",
              "  <tbody>\n",
              "    <tr>\n",
              "      <th>0</th>\n",
              "      <td>&lt;21</td>\n",
              "      <td>High</td>\n",
              "      <td>Male</td>\n",
              "      <td>Single</td>\n",
              "      <td>No</td>\n",
              "    </tr>\n",
              "    <tr>\n",
              "      <th>1</th>\n",
              "      <td>&lt;21</td>\n",
              "      <td>High</td>\n",
              "      <td>Male</td>\n",
              "      <td>Married</td>\n",
              "      <td>No</td>\n",
              "    </tr>\n",
              "    <tr>\n",
              "      <th>2</th>\n",
              "      <td>21-35</td>\n",
              "      <td>High</td>\n",
              "      <td>Male</td>\n",
              "      <td>Single</td>\n",
              "      <td>Yes</td>\n",
              "    </tr>\n",
              "    <tr>\n",
              "      <th>3</th>\n",
              "      <td>&gt;35</td>\n",
              "      <td>Medium</td>\n",
              "      <td>Male</td>\n",
              "      <td>Single</td>\n",
              "      <td>Yes</td>\n",
              "    </tr>\n",
              "    <tr>\n",
              "      <th>4</th>\n",
              "      <td>&gt;35</td>\n",
              "      <td>Low</td>\n",
              "      <td>Female</td>\n",
              "      <td>Single</td>\n",
              "      <td>Yes</td>\n",
              "    </tr>\n",
              "    <tr>\n",
              "      <th>5</th>\n",
              "      <td>&gt;35</td>\n",
              "      <td>Low</td>\n",
              "      <td>Female</td>\n",
              "      <td>Married</td>\n",
              "      <td>No</td>\n",
              "    </tr>\n",
              "    <tr>\n",
              "      <th>6</th>\n",
              "      <td>21-35</td>\n",
              "      <td>Low</td>\n",
              "      <td>Female</td>\n",
              "      <td>Married</td>\n",
              "      <td>Yes</td>\n",
              "    </tr>\n",
              "    <tr>\n",
              "      <th>7</th>\n",
              "      <td>&lt;21</td>\n",
              "      <td>Medium</td>\n",
              "      <td>Male</td>\n",
              "      <td>Single</td>\n",
              "      <td>No</td>\n",
              "    </tr>\n",
              "    <tr>\n",
              "      <th>8</th>\n",
              "      <td>&lt;21</td>\n",
              "      <td>Low</td>\n",
              "      <td>Female</td>\n",
              "      <td>Married</td>\n",
              "      <td>Yes</td>\n",
              "    </tr>\n",
              "    <tr>\n",
              "      <th>9</th>\n",
              "      <td>&gt;35</td>\n",
              "      <td>Medium</td>\n",
              "      <td>Female</td>\n",
              "      <td>Single</td>\n",
              "      <td>Yes</td>\n",
              "    </tr>\n",
              "    <tr>\n",
              "      <th>10</th>\n",
              "      <td>&lt;21</td>\n",
              "      <td>Medium</td>\n",
              "      <td>Female</td>\n",
              "      <td>Married</td>\n",
              "      <td>Yes</td>\n",
              "    </tr>\n",
              "    <tr>\n",
              "      <th>11</th>\n",
              "      <td>21-35</td>\n",
              "      <td>Medium</td>\n",
              "      <td>Male</td>\n",
              "      <td>Married</td>\n",
              "      <td>Yes</td>\n",
              "    </tr>\n",
              "    <tr>\n",
              "      <th>12</th>\n",
              "      <td>21-35</td>\n",
              "      <td>High</td>\n",
              "      <td>Female</td>\n",
              "      <td>Single</td>\n",
              "      <td>Yes</td>\n",
              "    </tr>\n",
              "    <tr>\n",
              "      <th>13</th>\n",
              "      <td>&gt;35</td>\n",
              "      <td>Medium</td>\n",
              "      <td>Male</td>\n",
              "      <td>Married</td>\n",
              "      <td>No</td>\n",
              "    </tr>\n",
              "  </tbody>\n",
              "</table>\n",
              "</div>\n",
              "      <button class=\"colab-df-convert\" onclick=\"convertToInteractive('df-7f1afa22-c352-4faf-b206-5aef21627e1f')\"\n",
              "              title=\"Convert this dataframe to an interactive table.\"\n",
              "              style=\"display:none;\">\n",
              "        \n",
              "  <svg xmlns=\"http://www.w3.org/2000/svg\" height=\"24px\"viewBox=\"0 0 24 24\"\n",
              "       width=\"24px\">\n",
              "    <path d=\"M0 0h24v24H0V0z\" fill=\"none\"/>\n",
              "    <path d=\"M18.56 5.44l.94 2.06.94-2.06 2.06-.94-2.06-.94-.94-2.06-.94 2.06-2.06.94zm-11 1L8.5 8.5l.94-2.06 2.06-.94-2.06-.94L8.5 2.5l-.94 2.06-2.06.94zm10 10l.94 2.06.94-2.06 2.06-.94-2.06-.94-.94-2.06-.94 2.06-2.06.94z\"/><path d=\"M17.41 7.96l-1.37-1.37c-.4-.4-.92-.59-1.43-.59-.52 0-1.04.2-1.43.59L10.3 9.45l-7.72 7.72c-.78.78-.78 2.05 0 2.83L4 21.41c.39.39.9.59 1.41.59.51 0 1.02-.2 1.41-.59l7.78-7.78 2.81-2.81c.8-.78.8-2.07 0-2.86zM5.41 20L4 18.59l7.72-7.72 1.47 1.35L5.41 20z\"/>\n",
              "  </svg>\n",
              "      </button>\n",
              "      \n",
              "  <style>\n",
              "    .colab-df-container {\n",
              "      display:flex;\n",
              "      flex-wrap:wrap;\n",
              "      gap: 12px;\n",
              "    }\n",
              "\n",
              "    .colab-df-convert {\n",
              "      background-color: #E8F0FE;\n",
              "      border: none;\n",
              "      border-radius: 50%;\n",
              "      cursor: pointer;\n",
              "      display: none;\n",
              "      fill: #1967D2;\n",
              "      height: 32px;\n",
              "      padding: 0 0 0 0;\n",
              "      width: 32px;\n",
              "    }\n",
              "\n",
              "    .colab-df-convert:hover {\n",
              "      background-color: #E2EBFA;\n",
              "      box-shadow: 0px 1px 2px rgba(60, 64, 67, 0.3), 0px 1px 3px 1px rgba(60, 64, 67, 0.15);\n",
              "      fill: #174EA6;\n",
              "    }\n",
              "\n",
              "    [theme=dark] .colab-df-convert {\n",
              "      background-color: #3B4455;\n",
              "      fill: #D2E3FC;\n",
              "    }\n",
              "\n",
              "    [theme=dark] .colab-df-convert:hover {\n",
              "      background-color: #434B5C;\n",
              "      box-shadow: 0px 1px 3px 1px rgba(0, 0, 0, 0.15);\n",
              "      filter: drop-shadow(0px 1px 2px rgba(0, 0, 0, 0.3));\n",
              "      fill: #FFFFFF;\n",
              "    }\n",
              "  </style>\n",
              "\n",
              "      <script>\n",
              "        const buttonEl =\n",
              "          document.querySelector('#df-7f1afa22-c352-4faf-b206-5aef21627e1f button.colab-df-convert');\n",
              "        buttonEl.style.display =\n",
              "          google.colab.kernel.accessAllowed ? 'block' : 'none';\n",
              "\n",
              "        async function convertToInteractive(key) {\n",
              "          const element = document.querySelector('#df-7f1afa22-c352-4faf-b206-5aef21627e1f');\n",
              "          const dataTable =\n",
              "            await google.colab.kernel.invokeFunction('convertToInteractive',\n",
              "                                                     [key], {});\n",
              "          if (!dataTable) return;\n",
              "\n",
              "          const docLinkHtml = 'Like what you see? Visit the ' +\n",
              "            '<a target=\"_blank\" href=https://colab.research.google.com/notebooks/data_table.ipynb>data table notebook</a>'\n",
              "            + ' to learn more about interactive tables.';\n",
              "          element.innerHTML = '';\n",
              "          dataTable['output_type'] = 'display_data';\n",
              "          await google.colab.output.renderOutput(dataTable, element);\n",
              "          const docLink = document.createElement('div');\n",
              "          docLink.innerHTML = docLinkHtml;\n",
              "          element.appendChild(docLink);\n",
              "        }\n",
              "      </script>\n",
              "    </div>\n",
              "  </div>\n",
              "  "
            ]
          },
          "metadata": {},
          "execution_count": 41
        }
      ]
    },
    {
      "cell_type": "code",
      "source": [
        "from sklearn.preprocessing import LabelEncoder\n",
        "le = LabelEncoder()\n",
        "for i in range(4):\n",
        "  df[columns[i]] = le.fit_transform(df[columns[i]])\n",
        "df"
      ],
      "metadata": {
        "colab": {
          "base_uri": "https://localhost:8080/",
          "height": 488
        },
        "id": "z6PKwWye_1qy",
        "outputId": "31074c12-37b4-43dc-87ff-0cb6ca09d5fa"
      },
      "execution_count": 43,
      "outputs": [
        {
          "output_type": "execute_result",
          "data": {
            "text/plain": [
              "    Age  Income  Gender  Marital Status Buys\n",
              "0     1       0       1               1   No\n",
              "1     1       0       1               0   No\n",
              "2     0       0       1               1  Yes\n",
              "3     2       2       1               1  Yes\n",
              "4     2       1       0               1  Yes\n",
              "5     2       1       0               0   No\n",
              "6     0       1       0               0  Yes\n",
              "7     1       2       1               1   No\n",
              "8     1       1       0               0  Yes\n",
              "9     2       2       0               1  Yes\n",
              "10    1       2       0               0  Yes\n",
              "11    0       2       1               0  Yes\n",
              "12    0       0       0               1  Yes\n",
              "13    2       2       1               0   No"
            ],
            "text/html": [
              "\n",
              "  <div id=\"df-81f010d8-8223-4858-9e28-587be027b3a6\">\n",
              "    <div class=\"colab-df-container\">\n",
              "      <div>\n",
              "<style scoped>\n",
              "    .dataframe tbody tr th:only-of-type {\n",
              "        vertical-align: middle;\n",
              "    }\n",
              "\n",
              "    .dataframe tbody tr th {\n",
              "        vertical-align: top;\n",
              "    }\n",
              "\n",
              "    .dataframe thead th {\n",
              "        text-align: right;\n",
              "    }\n",
              "</style>\n",
              "<table border=\"1\" class=\"dataframe\">\n",
              "  <thead>\n",
              "    <tr style=\"text-align: right;\">\n",
              "      <th></th>\n",
              "      <th>Age</th>\n",
              "      <th>Income</th>\n",
              "      <th>Gender</th>\n",
              "      <th>Marital Status</th>\n",
              "      <th>Buys</th>\n",
              "    </tr>\n",
              "  </thead>\n",
              "  <tbody>\n",
              "    <tr>\n",
              "      <th>0</th>\n",
              "      <td>1</td>\n",
              "      <td>0</td>\n",
              "      <td>1</td>\n",
              "      <td>1</td>\n",
              "      <td>No</td>\n",
              "    </tr>\n",
              "    <tr>\n",
              "      <th>1</th>\n",
              "      <td>1</td>\n",
              "      <td>0</td>\n",
              "      <td>1</td>\n",
              "      <td>0</td>\n",
              "      <td>No</td>\n",
              "    </tr>\n",
              "    <tr>\n",
              "      <th>2</th>\n",
              "      <td>0</td>\n",
              "      <td>0</td>\n",
              "      <td>1</td>\n",
              "      <td>1</td>\n",
              "      <td>Yes</td>\n",
              "    </tr>\n",
              "    <tr>\n",
              "      <th>3</th>\n",
              "      <td>2</td>\n",
              "      <td>2</td>\n",
              "      <td>1</td>\n",
              "      <td>1</td>\n",
              "      <td>Yes</td>\n",
              "    </tr>\n",
              "    <tr>\n",
              "      <th>4</th>\n",
              "      <td>2</td>\n",
              "      <td>1</td>\n",
              "      <td>0</td>\n",
              "      <td>1</td>\n",
              "      <td>Yes</td>\n",
              "    </tr>\n",
              "    <tr>\n",
              "      <th>5</th>\n",
              "      <td>2</td>\n",
              "      <td>1</td>\n",
              "      <td>0</td>\n",
              "      <td>0</td>\n",
              "      <td>No</td>\n",
              "    </tr>\n",
              "    <tr>\n",
              "      <th>6</th>\n",
              "      <td>0</td>\n",
              "      <td>1</td>\n",
              "      <td>0</td>\n",
              "      <td>0</td>\n",
              "      <td>Yes</td>\n",
              "    </tr>\n",
              "    <tr>\n",
              "      <th>7</th>\n",
              "      <td>1</td>\n",
              "      <td>2</td>\n",
              "      <td>1</td>\n",
              "      <td>1</td>\n",
              "      <td>No</td>\n",
              "    </tr>\n",
              "    <tr>\n",
              "      <th>8</th>\n",
              "      <td>1</td>\n",
              "      <td>1</td>\n",
              "      <td>0</td>\n",
              "      <td>0</td>\n",
              "      <td>Yes</td>\n",
              "    </tr>\n",
              "    <tr>\n",
              "      <th>9</th>\n",
              "      <td>2</td>\n",
              "      <td>2</td>\n",
              "      <td>0</td>\n",
              "      <td>1</td>\n",
              "      <td>Yes</td>\n",
              "    </tr>\n",
              "    <tr>\n",
              "      <th>10</th>\n",
              "      <td>1</td>\n",
              "      <td>2</td>\n",
              "      <td>0</td>\n",
              "      <td>0</td>\n",
              "      <td>Yes</td>\n",
              "    </tr>\n",
              "    <tr>\n",
              "      <th>11</th>\n",
              "      <td>0</td>\n",
              "      <td>2</td>\n",
              "      <td>1</td>\n",
              "      <td>0</td>\n",
              "      <td>Yes</td>\n",
              "    </tr>\n",
              "    <tr>\n",
              "      <th>12</th>\n",
              "      <td>0</td>\n",
              "      <td>0</td>\n",
              "      <td>0</td>\n",
              "      <td>1</td>\n",
              "      <td>Yes</td>\n",
              "    </tr>\n",
              "    <tr>\n",
              "      <th>13</th>\n",
              "      <td>2</td>\n",
              "      <td>2</td>\n",
              "      <td>1</td>\n",
              "      <td>0</td>\n",
              "      <td>No</td>\n",
              "    </tr>\n",
              "  </tbody>\n",
              "</table>\n",
              "</div>\n",
              "      <button class=\"colab-df-convert\" onclick=\"convertToInteractive('df-81f010d8-8223-4858-9e28-587be027b3a6')\"\n",
              "              title=\"Convert this dataframe to an interactive table.\"\n",
              "              style=\"display:none;\">\n",
              "        \n",
              "  <svg xmlns=\"http://www.w3.org/2000/svg\" height=\"24px\"viewBox=\"0 0 24 24\"\n",
              "       width=\"24px\">\n",
              "    <path d=\"M0 0h24v24H0V0z\" fill=\"none\"/>\n",
              "    <path d=\"M18.56 5.44l.94 2.06.94-2.06 2.06-.94-2.06-.94-.94-2.06-.94 2.06-2.06.94zm-11 1L8.5 8.5l.94-2.06 2.06-.94-2.06-.94L8.5 2.5l-.94 2.06-2.06.94zm10 10l.94 2.06.94-2.06 2.06-.94-2.06-.94-.94-2.06-.94 2.06-2.06.94z\"/><path d=\"M17.41 7.96l-1.37-1.37c-.4-.4-.92-.59-1.43-.59-.52 0-1.04.2-1.43.59L10.3 9.45l-7.72 7.72c-.78.78-.78 2.05 0 2.83L4 21.41c.39.39.9.59 1.41.59.51 0 1.02-.2 1.41-.59l7.78-7.78 2.81-2.81c.8-.78.8-2.07 0-2.86zM5.41 20L4 18.59l7.72-7.72 1.47 1.35L5.41 20z\"/>\n",
              "  </svg>\n",
              "      </button>\n",
              "      \n",
              "  <style>\n",
              "    .colab-df-container {\n",
              "      display:flex;\n",
              "      flex-wrap:wrap;\n",
              "      gap: 12px;\n",
              "    }\n",
              "\n",
              "    .colab-df-convert {\n",
              "      background-color: #E8F0FE;\n",
              "      border: none;\n",
              "      border-radius: 50%;\n",
              "      cursor: pointer;\n",
              "      display: none;\n",
              "      fill: #1967D2;\n",
              "      height: 32px;\n",
              "      padding: 0 0 0 0;\n",
              "      width: 32px;\n",
              "    }\n",
              "\n",
              "    .colab-df-convert:hover {\n",
              "      background-color: #E2EBFA;\n",
              "      box-shadow: 0px 1px 2px rgba(60, 64, 67, 0.3), 0px 1px 3px 1px rgba(60, 64, 67, 0.15);\n",
              "      fill: #174EA6;\n",
              "    }\n",
              "\n",
              "    [theme=dark] .colab-df-convert {\n",
              "      background-color: #3B4455;\n",
              "      fill: #D2E3FC;\n",
              "    }\n",
              "\n",
              "    [theme=dark] .colab-df-convert:hover {\n",
              "      background-color: #434B5C;\n",
              "      box-shadow: 0px 1px 3px 1px rgba(0, 0, 0, 0.15);\n",
              "      filter: drop-shadow(0px 1px 2px rgba(0, 0, 0, 0.3));\n",
              "      fill: #FFFFFF;\n",
              "    }\n",
              "  </style>\n",
              "\n",
              "      <script>\n",
              "        const buttonEl =\n",
              "          document.querySelector('#df-81f010d8-8223-4858-9e28-587be027b3a6 button.colab-df-convert');\n",
              "        buttonEl.style.display =\n",
              "          google.colab.kernel.accessAllowed ? 'block' : 'none';\n",
              "\n",
              "        async function convertToInteractive(key) {\n",
              "          const element = document.querySelector('#df-81f010d8-8223-4858-9e28-587be027b3a6');\n",
              "          const dataTable =\n",
              "            await google.colab.kernel.invokeFunction('convertToInteractive',\n",
              "                                                     [key], {});\n",
              "          if (!dataTable) return;\n",
              "\n",
              "          const docLinkHtml = 'Like what you see? Visit the ' +\n",
              "            '<a target=\"_blank\" href=https://colab.research.google.com/notebooks/data_table.ipynb>data table notebook</a>'\n",
              "            + ' to learn more about interactive tables.';\n",
              "          element.innerHTML = '';\n",
              "          dataTable['output_type'] = 'display_data';\n",
              "          await google.colab.output.renderOutput(dataTable, element);\n",
              "          const docLink = document.createElement('div');\n",
              "          docLink.innerHTML = docLinkHtml;\n",
              "          element.appendChild(docLink);\n",
              "        }\n",
              "      </script>\n",
              "    </div>\n",
              "  </div>\n",
              "  "
            ]
          },
          "metadata": {},
          "execution_count": 43
        }
      ]
    },
    {
      "cell_type": "code",
      "source": [
        "x = df.iloc[:,:-1]\n",
        "x"
      ],
      "metadata": {
        "colab": {
          "base_uri": "https://localhost:8080/",
          "height": 488
        },
        "id": "zKHMy6iZ_1oV",
        "outputId": "5f629828-ff7e-468f-80e7-d319851bfed5"
      },
      "execution_count": 44,
      "outputs": [
        {
          "output_type": "execute_result",
          "data": {
            "text/plain": [
              "    Age  Income  Gender  Marital Status\n",
              "0     1       0       1               1\n",
              "1     1       0       1               0\n",
              "2     0       0       1               1\n",
              "3     2       2       1               1\n",
              "4     2       1       0               1\n",
              "5     2       1       0               0\n",
              "6     0       1       0               0\n",
              "7     1       2       1               1\n",
              "8     1       1       0               0\n",
              "9     2       2       0               1\n",
              "10    1       2       0               0\n",
              "11    0       2       1               0\n",
              "12    0       0       0               1\n",
              "13    2       2       1               0"
            ],
            "text/html": [
              "\n",
              "  <div id=\"df-bbe16fd2-8de4-4a15-a931-00bdf84f8a71\">\n",
              "    <div class=\"colab-df-container\">\n",
              "      <div>\n",
              "<style scoped>\n",
              "    .dataframe tbody tr th:only-of-type {\n",
              "        vertical-align: middle;\n",
              "    }\n",
              "\n",
              "    .dataframe tbody tr th {\n",
              "        vertical-align: top;\n",
              "    }\n",
              "\n",
              "    .dataframe thead th {\n",
              "        text-align: right;\n",
              "    }\n",
              "</style>\n",
              "<table border=\"1\" class=\"dataframe\">\n",
              "  <thead>\n",
              "    <tr style=\"text-align: right;\">\n",
              "      <th></th>\n",
              "      <th>Age</th>\n",
              "      <th>Income</th>\n",
              "      <th>Gender</th>\n",
              "      <th>Marital Status</th>\n",
              "    </tr>\n",
              "  </thead>\n",
              "  <tbody>\n",
              "    <tr>\n",
              "      <th>0</th>\n",
              "      <td>1</td>\n",
              "      <td>0</td>\n",
              "      <td>1</td>\n",
              "      <td>1</td>\n",
              "    </tr>\n",
              "    <tr>\n",
              "      <th>1</th>\n",
              "      <td>1</td>\n",
              "      <td>0</td>\n",
              "      <td>1</td>\n",
              "      <td>0</td>\n",
              "    </tr>\n",
              "    <tr>\n",
              "      <th>2</th>\n",
              "      <td>0</td>\n",
              "      <td>0</td>\n",
              "      <td>1</td>\n",
              "      <td>1</td>\n",
              "    </tr>\n",
              "    <tr>\n",
              "      <th>3</th>\n",
              "      <td>2</td>\n",
              "      <td>2</td>\n",
              "      <td>1</td>\n",
              "      <td>1</td>\n",
              "    </tr>\n",
              "    <tr>\n",
              "      <th>4</th>\n",
              "      <td>2</td>\n",
              "      <td>1</td>\n",
              "      <td>0</td>\n",
              "      <td>1</td>\n",
              "    </tr>\n",
              "    <tr>\n",
              "      <th>5</th>\n",
              "      <td>2</td>\n",
              "      <td>1</td>\n",
              "      <td>0</td>\n",
              "      <td>0</td>\n",
              "    </tr>\n",
              "    <tr>\n",
              "      <th>6</th>\n",
              "      <td>0</td>\n",
              "      <td>1</td>\n",
              "      <td>0</td>\n",
              "      <td>0</td>\n",
              "    </tr>\n",
              "    <tr>\n",
              "      <th>7</th>\n",
              "      <td>1</td>\n",
              "      <td>2</td>\n",
              "      <td>1</td>\n",
              "      <td>1</td>\n",
              "    </tr>\n",
              "    <tr>\n",
              "      <th>8</th>\n",
              "      <td>1</td>\n",
              "      <td>1</td>\n",
              "      <td>0</td>\n",
              "      <td>0</td>\n",
              "    </tr>\n",
              "    <tr>\n",
              "      <th>9</th>\n",
              "      <td>2</td>\n",
              "      <td>2</td>\n",
              "      <td>0</td>\n",
              "      <td>1</td>\n",
              "    </tr>\n",
              "    <tr>\n",
              "      <th>10</th>\n",
              "      <td>1</td>\n",
              "      <td>2</td>\n",
              "      <td>0</td>\n",
              "      <td>0</td>\n",
              "    </tr>\n",
              "    <tr>\n",
              "      <th>11</th>\n",
              "      <td>0</td>\n",
              "      <td>2</td>\n",
              "      <td>1</td>\n",
              "      <td>0</td>\n",
              "    </tr>\n",
              "    <tr>\n",
              "      <th>12</th>\n",
              "      <td>0</td>\n",
              "      <td>0</td>\n",
              "      <td>0</td>\n",
              "      <td>1</td>\n",
              "    </tr>\n",
              "    <tr>\n",
              "      <th>13</th>\n",
              "      <td>2</td>\n",
              "      <td>2</td>\n",
              "      <td>1</td>\n",
              "      <td>0</td>\n",
              "    </tr>\n",
              "  </tbody>\n",
              "</table>\n",
              "</div>\n",
              "      <button class=\"colab-df-convert\" onclick=\"convertToInteractive('df-bbe16fd2-8de4-4a15-a931-00bdf84f8a71')\"\n",
              "              title=\"Convert this dataframe to an interactive table.\"\n",
              "              style=\"display:none;\">\n",
              "        \n",
              "  <svg xmlns=\"http://www.w3.org/2000/svg\" height=\"24px\"viewBox=\"0 0 24 24\"\n",
              "       width=\"24px\">\n",
              "    <path d=\"M0 0h24v24H0V0z\" fill=\"none\"/>\n",
              "    <path d=\"M18.56 5.44l.94 2.06.94-2.06 2.06-.94-2.06-.94-.94-2.06-.94 2.06-2.06.94zm-11 1L8.5 8.5l.94-2.06 2.06-.94-2.06-.94L8.5 2.5l-.94 2.06-2.06.94zm10 10l.94 2.06.94-2.06 2.06-.94-2.06-.94-.94-2.06-.94 2.06-2.06.94z\"/><path d=\"M17.41 7.96l-1.37-1.37c-.4-.4-.92-.59-1.43-.59-.52 0-1.04.2-1.43.59L10.3 9.45l-7.72 7.72c-.78.78-.78 2.05 0 2.83L4 21.41c.39.39.9.59 1.41.59.51 0 1.02-.2 1.41-.59l7.78-7.78 2.81-2.81c.8-.78.8-2.07 0-2.86zM5.41 20L4 18.59l7.72-7.72 1.47 1.35L5.41 20z\"/>\n",
              "  </svg>\n",
              "      </button>\n",
              "      \n",
              "  <style>\n",
              "    .colab-df-container {\n",
              "      display:flex;\n",
              "      flex-wrap:wrap;\n",
              "      gap: 12px;\n",
              "    }\n",
              "\n",
              "    .colab-df-convert {\n",
              "      background-color: #E8F0FE;\n",
              "      border: none;\n",
              "      border-radius: 50%;\n",
              "      cursor: pointer;\n",
              "      display: none;\n",
              "      fill: #1967D2;\n",
              "      height: 32px;\n",
              "      padding: 0 0 0 0;\n",
              "      width: 32px;\n",
              "    }\n",
              "\n",
              "    .colab-df-convert:hover {\n",
              "      background-color: #E2EBFA;\n",
              "      box-shadow: 0px 1px 2px rgba(60, 64, 67, 0.3), 0px 1px 3px 1px rgba(60, 64, 67, 0.15);\n",
              "      fill: #174EA6;\n",
              "    }\n",
              "\n",
              "    [theme=dark] .colab-df-convert {\n",
              "      background-color: #3B4455;\n",
              "      fill: #D2E3FC;\n",
              "    }\n",
              "\n",
              "    [theme=dark] .colab-df-convert:hover {\n",
              "      background-color: #434B5C;\n",
              "      box-shadow: 0px 1px 3px 1px rgba(0, 0, 0, 0.15);\n",
              "      filter: drop-shadow(0px 1px 2px rgba(0, 0, 0, 0.3));\n",
              "      fill: #FFFFFF;\n",
              "    }\n",
              "  </style>\n",
              "\n",
              "      <script>\n",
              "        const buttonEl =\n",
              "          document.querySelector('#df-bbe16fd2-8de4-4a15-a931-00bdf84f8a71 button.colab-df-convert');\n",
              "        buttonEl.style.display =\n",
              "          google.colab.kernel.accessAllowed ? 'block' : 'none';\n",
              "\n",
              "        async function convertToInteractive(key) {\n",
              "          const element = document.querySelector('#df-bbe16fd2-8de4-4a15-a931-00bdf84f8a71');\n",
              "          const dataTable =\n",
              "            await google.colab.kernel.invokeFunction('convertToInteractive',\n",
              "                                                     [key], {});\n",
              "          if (!dataTable) return;\n",
              "\n",
              "          const docLinkHtml = 'Like what you see? Visit the ' +\n",
              "            '<a target=\"_blank\" href=https://colab.research.google.com/notebooks/data_table.ipynb>data table notebook</a>'\n",
              "            + ' to learn more about interactive tables.';\n",
              "          element.innerHTML = '';\n",
              "          dataTable['output_type'] = 'display_data';\n",
              "          await google.colab.output.renderOutput(dataTable, element);\n",
              "          const docLink = document.createElement('div');\n",
              "          docLink.innerHTML = docLinkHtml;\n",
              "          element.appendChild(docLink);\n",
              "        }\n",
              "      </script>\n",
              "    </div>\n",
              "  </div>\n",
              "  "
            ]
          },
          "metadata": {},
          "execution_count": 44
        }
      ]
    },
    {
      "cell_type": "code",
      "source": [
        "y = df.iloc[:,-1]\n",
        "y"
      ],
      "metadata": {
        "colab": {
          "base_uri": "https://localhost:8080/"
        },
        "id": "dmAwACK__1mX",
        "outputId": "a15ac0ee-fb93-47f7-a6c4-a71e067fe9eb"
      },
      "execution_count": 45,
      "outputs": [
        {
          "output_type": "execute_result",
          "data": {
            "text/plain": [
              "0      No\n",
              "1      No\n",
              "2     Yes\n",
              "3     Yes\n",
              "4     Yes\n",
              "5      No\n",
              "6     Yes\n",
              "7      No\n",
              "8     Yes\n",
              "9     Yes\n",
              "10    Yes\n",
              "11    Yes\n",
              "12    Yes\n",
              "13     No\n",
              "Name: Buys, dtype: object"
            ]
          },
          "metadata": {},
          "execution_count": 45
        }
      ]
    },
    {
      "cell_type": "code",
      "source": [
        "from sklearn.tree import DecisionTreeClassifier\n",
        "from sklearn.tree import export_graphviz\n",
        "from IPython.display import Image\n",
        "dt  = DecisionTreeClassifier()\n",
        "dt.fit(x,y)"
      ],
      "metadata": {
        "colab": {
          "base_uri": "https://localhost:8080/"
        },
        "id": "8i8a2awO_1jq",
        "outputId": "8637cc3f-9938-4afe-9ee8-e71da4f9cbb2"
      },
      "execution_count": 46,
      "outputs": [
        {
          "output_type": "execute_result",
          "data": {
            "text/plain": [
              "DecisionTreeClassifier()"
            ]
          },
          "metadata": {},
          "execution_count": 46
        }
      ]
    },
    {
      "cell_type": "code",
      "source": [
        "query = np.array([1,1,0,0])\n",
        "pred = dt.predict([query])\n",
        "pred[0]"
      ],
      "metadata": {
        "colab": {
          "base_uri": "https://localhost:8080/",
          "height": 70
        },
        "id": "y3ZfWLuSA0rG",
        "outputId": "ca8fc800-3062-4626-c903-e9ef4cd4142c"
      },
      "execution_count": 49,
      "outputs": [
        {
          "output_type": "stream",
          "name": "stderr",
          "text": [
            "/usr/local/lib/python3.7/dist-packages/sklearn/base.py:451: UserWarning: X does not have valid feature names, but DecisionTreeClassifier was fitted with feature names\n",
            "  \"X does not have valid feature names, but\"\n"
          ]
        },
        {
          "output_type": "execute_result",
          "data": {
            "text/plain": [
              "'Yes'"
            ],
            "application/vnd.google.colaboratory.intrinsic+json": {
              "type": "string"
            }
          },
          "metadata": {},
          "execution_count": 49
        }
      ]
    },
    {
      "cell_type": "code",
      "source": [
        "export_graphviz(dt,out_file=\"data.dot\",feature_names = x.columns, class_names=[\"No\",\"Yes\"])\n",
        "!dot -Tpng data.dot -o tree.png\n",
        "Image(\"tree.png\")"
      ],
      "metadata": {
        "colab": {
          "base_uri": "https://localhost:8080/",
          "height": 753
        },
        "id": "NtXX_SOMA0eF",
        "outputId": "5f02aa2a-67ab-4f21-e27e-500fb9571d65"
      },
      "execution_count": 51,
      "outputs": [
        {
          "output_type": "execute_result",
          "data": {
            "text/plain": [
              "<IPython.core.display.Image object>"
            ],
            "image/png": "[encoded data removed]"
          },
          "metadata": {},
          "execution_count": 51
        }
      ]
    },
    {
      "cell_type": "markdown",
      "source": [
        "## ML3"
      ],
      "metadata": {
        "id": "6F11AwRk4NOj"
      }
    },
    {
      "cell_type": "code",
      "source": [
        "from math import sqrt"
      ],
      "metadata": {
        "id": "gyltLQkG4PJT"
      },
      "execution_count": 23,
      "outputs": []
    },
    {
      "cell_type": "code",
      "source": [
        "def euclideandist(row1,row2):\n",
        "  dist = 0.0\n",
        "  for i in range(len(row1)-1):\n",
        "    dist+=(row1[i]-row2[i])**2\n",
        "  return sqrt(dist)"
      ],
      "metadata": {
        "id": "EQHZm3Y34mgM"
      },
      "execution_count": 37,
      "outputs": []
    },
    {
      "cell_type": "code",
      "source": [
        "def getneighbors(train,test_row,num):\n",
        "  distances = list()\n",
        "  for train_row in train:\n",
        "    dist = euclideandist(train_row,test_row)\n",
        "    distances.append((train_row,dist))\n",
        "  distances.sort(key = lambda tup:tup[1])\n",
        "  neighbors = list()\n",
        "  for i in range(num):\n",
        "    neighbors.append(distances[i][0])\n",
        "  return neighbors"
      ],
      "metadata": {
        "id": "HESTk-JT4rtp"
      },
      "execution_count": 38,
      "outputs": []
    },
    {
      "cell_type": "code",
      "source": [
        "train_data = [[2, 4, \"Orange\"], [4, 4, \"Blue\"], [4, 6, \"Orange\"], [4, 2, \"Orange\"], [6, 2, \"Blue\"], [6, 4, \"Orange\"]]\n",
        "test_data = [[6, 6]]\n",
        "for item in test_data:\n",
        "  print(item)\n",
        "  neighbors = getneighbors(train_data,item,3)\n",
        "  print(neighbors)\n",
        "  output_values = [row[-1] for row in neighbors]\n",
        "  prediction = max(set(output_values),key = output_values.count)\n",
        "  print (prediction)"
      ],
      "metadata": {
        "colab": {
          "base_uri": "https://localhost:8080/"
        },
        "id": "iDiA3ucU4yn6",
        "outputId": "3dff5880-57d1-49cc-d5c8-fd8c0fa0e213"
      },
      "execution_count": 39,
      "outputs": [
        {
          "output_type": "stream",
          "name": "stdout",
          "text": [
            "[6, 6]\n",
            "[[4, 6, 'Orange'], [6, 4, 'Orange'], [4, 4, 'Blue']]\n",
            "Orange\n"
          ]
        }
      ]
    },
    {
      "cell_type": "markdown",
      "source": [
        "## ML4 Kmeans"
      ],
      "metadata": {
        "id": "OfakKCWisOcs"
      }
    },
    {
      "cell_type": "code",
      "source": [
        "import pandas as pd\n",
        "import numpy as np\n",
        "import matplotlib.pyplot as plt"
      ],
      "metadata": {
        "id": "MxyKrdNSsVnf"
      },
      "execution_count": 1,
      "outputs": []
    },
    {
      "cell_type": "code",
      "source": [
        "P1=[0.1,0.6] \n",
        "P2=[0.15,0.71] \n",
        "P3=[0.08,0.9] \n",
        "P4=[0.16,0.85] \n",
        "P5=[0.2,0.3] \n",
        "P6=[0.25,0.5] \n",
        "P7=[0.24,0.1] \n",
        "P8=[0.3,0.2]\n",
        "x = [P1,P2,P3,P4,P5,P6,P7,P8]"
      ],
      "metadata": {
        "id": "XLdY8RLwseKy"
      },
      "execution_count": 2,
      "outputs": []
    },
    {
      "cell_type": "code",
      "source": [
        "x = np.array(x)"
      ],
      "metadata": {
        "id": "xsMD6e96snvs"
      },
      "execution_count": 3,
      "outputs": []
    },
    {
      "cell_type": "code",
      "source": [
        "from sklearn.cluster import KMeans\n",
        "kmeans = KMeans(n_clusters=2, init='k-means++',max_iter=300,n_init = 10,random_state=0)\n",
        "y_kmeans = kmeans.fit_predict(x)"
      ],
      "metadata": {
        "id": "za39mkRqsnos"
      },
      "execution_count": 5,
      "outputs": []
    },
    {
      "cell_type": "code",
      "source": [
        "plt.scatter(P1[0],P1[1],c = 'black', label = 'P1')\n",
        "plt.scatter(P2[0],P2[1],c = 'black', label = 'P2', marker='s',s=100)\n",
        "plt.scatter(P3[0],P3[1],c = 'black', label = 'P3', marker='1',s=100)\n",
        "plt.scatter(P4[0],P4[1],c = 'black', label = 'P4', marker='2',s=100)\n",
        "plt.scatter(P5[0],P5[1],c = 'black', label = 'P5', marker='3',s=100)\n",
        "plt.scatter(P6[0],P6[1],c = 'black', label = 'P6', marker='4',s=100)\n",
        "plt.scatter(P7[0],P7[1],c = 'black', label = 'P7', marker='o',s=100)\n",
        "plt.scatter(P8[0],P8[1],c = 'black', label = 'P8', marker='x',s=100)\n",
        "plt.title('Points in the dataset')\n",
        "plt.legend()\n",
        "plt.show()"
      ],
      "metadata": {
        "colab": {
          "base_uri": "https://localhost:8080/",
          "height": 281
        },
        "id": "BlUFD1qyuIJu",
        "outputId": "2cf81867-94d6-4e7a-c6f4-346ce93a0cef"
      },
      "execution_count": 7,
      "outputs": [
        {
          "output_type": "display_data",
          "data": {
            "text/plain": [
              "<Figure size 432x288 with 1 Axes>"
            ],
            "image/png": "[encoded data removed]"
          },
          "metadata": {
            "needs_background": "light"
          }
        }
      ]
    },
    {
      "cell_type": "code",
      "source": [
        "plt.scatter(x[y_kmeans==0,0], x[y_kmeans==0,1],s=100,c='red', label='cluster1')\n",
        "plt.scatter(x[y_kmeans==1,0], x[y_kmeans==1,1],s=100,c='blue', label='cluster2')\n",
        "plt.scatter(kmeans.cluster_centers_[:,0], kmeans.cluster_centers_[:,1],s=300,c = 'yellow', label='centroids')\n",
        "plt.scatter(P6[0],P6[1],c='black', label='P6')\n",
        "plt.legend()\n",
        "plt.title('clustering')"
      ],
      "metadata": {
        "colab": {
          "base_uri": "https://localhost:8080/",
          "height": 298
        },
        "id": "gKVvYBD-uIG3",
        "outputId": "98d7dbeb-31fc-4866-abab-083f72fb9598"
      },
      "execution_count": 13,
      "outputs": [
        {
          "output_type": "execute_result",
          "data": {
            "text/plain": [
              "Text(0.5, 1.0, 'clustering')"
            ]
          },
          "metadata": {},
          "execution_count": 13
        },
        {
          "output_type": "display_data",
          "data": {
            "text/plain": [
              "<Figure size 432x288 with 1 Axes>"
            ],
            "image/png": "[encoded data removed]"
          },
          "metadata": {
            "needs_background": "light"
          }
        }
      ]
    },
    {
      "cell_type": "code",
      "source": [
        "kmeans.cluster_centers_[:,[0,1]]"
      ],
      "metadata": {
        "colab": {
          "base_uri": "https://localhost:8080/"
        },
        "id": "bsgAloxTuIDt",
        "outputId": "0f46191d-d16f-4508-a3db-277ed94340d9"
      },
      "execution_count": 20,
      "outputs": [
        {
          "output_type": "execute_result",
          "data": {
            "text/plain": [
              "array([[0.2475, 0.275 ],\n",
              "       [0.1225, 0.765 ]])"
            ]
          },
          "metadata": {},
          "execution_count": 20
        }
      ]
    },
    {
      "cell_type": "markdown",
      "source": [
        "## ICS1 SDES"
      ],
      "metadata": {
        "id": "0qwxBMkqAObV"
      }
    },
    {
      "cell_type": "code",
      "source": [
        "IP=[2, 6, 3, 1, 4, 8, 5, 7]\n",
        "IP_INV=[4, 1, 3, 5, 7, 2, 8, 6]\n",
        "P10= [3,5 ,2, 7, 4, 10, 1, 9, 8, 6]\n",
        "P8 = [6, 3, 7, 4, 8, 5, 10, 9]\n",
        "EP = [4, 1, 2, 3, 2, 3, 4, 1]\n",
        "s0 = [[1, 0, 3, 2],\n",
        "    [3, 2, 1, 0],\n",
        "    [0, 2, 1, 3],\n",
        "    [3, 1, 3, 2]]\n",
        "s1 = [[0, 1, 2, 3],\n",
        "    [2, 0, 1, 3],\n",
        "    [3, 0, 1, 0],\n",
        "    [2, 1, 0, 3]]"
      ],
      "metadata": {
        "id": "j8vaQSFEAQbq"
      },
      "execution_count": 2,
      "outputs": []
    },
    {
      "cell_type": "code",
      "source": [
        "def bintodec(x):\n",
        "  return int(x,2)\n",
        "def dectobin(x):\n",
        "  return bin(x).replace(\"0b\",\"\")"
      ],
      "metadata": {
        "id": "hB_xrCPYCCp-"
      },
      "execution_count": 3,
      "outputs": []
    },
    {
      "cell_type": "code",
      "source": [
        "def permutate(text,perm):\n",
        "  ret = \"\"\n",
        "  for i in perm:\n",
        "    ret+=text[i-1]\n",
        "  return ret"
      ],
      "metadata": {
        "id": "ask034iNDPRc"
      },
      "execution_count": 4,
      "outputs": []
    },
    {
      "cell_type": "code",
      "source": [
        "def split_str(text):\n",
        "  half = len(text)//2\n",
        "  l = text[:half]\n",
        "  r = text[half:]\n",
        "  return l,r"
      ],
      "metadata": {
        "id": "p5VTxfDRCUvR"
      },
      "execution_count": 5,
      "outputs": []
    },
    {
      "cell_type": "code",
      "source": [
        "def left_shift(text,shift = 1):\n",
        "  shift = shift%len(text)\n",
        "  return text[shift:]+text[:shift]"
      ],
      "metadata": {
        "id": "HgN-fZPrCUsS"
      },
      "execution_count": 6,
      "outputs": []
    },
    {
      "cell_type": "code",
      "source": [
        "def xor(a,b):\n",
        "  ret = \"\"\n",
        "  for i in range(len(a)):\n",
        "    if a[i]==b[i]:\n",
        "      ret+=\"0\"\n",
        "    else:\n",
        "      ret+=\"1\"\n",
        "  return ret"
      ],
      "metadata": {
        "id": "AuZG72oSna8f"
      },
      "execution_count": 8,
      "outputs": []
    },
    {
      "cell_type": "code",
      "source": [
        "def generate_subkey(key):\n",
        "  n_key = permutate(key,P10)\n",
        "\n",
        "  left_key , right_key = split_str(n_key)\n",
        "\n",
        "  left_key = left_shift(left_key,1)\n",
        "  right_key = left_shift(right_key,1)\n",
        "  k1=permutate(left_key+right_key,P8)\n",
        "\n",
        "  left_key = left_shift(left_key,2)\n",
        "  right_key = left_shift(right_key,2)\n",
        "  k2=permutate(left_key+right_key,P8)\n",
        "  \n",
        "  return k1,k2"
      ],
      "metadata": {
        "id": "Jshb4kAHCUpE"
      },
      "execution_count": 9,
      "outputs": []
    },
    {
      "cell_type": "code",
      "source": [
        "def sbox(text,s):\n",
        "  r = text[0]+text[3]\n",
        "  c = text[1]+text[2]\n",
        "  r = bintodec(r)\n",
        "  c = bintodec(c)\n",
        "  out = s[r][c]\n",
        "  out = dectobin(out)\n",
        "  if len(out)<2:\n",
        "    out = \"0\"+out\n",
        "  return out"
      ],
      "metadata": {
        "id": "BrfrnrwUn4u-"
      },
      "execution_count": 10,
      "outputs": []
    },
    {
      "cell_type": "code",
      "source": [
        "def function(left,right,subkey):\n",
        "  text = right\n",
        "  text = permutate(text,EP)\n",
        "  text = xor(text,subkey)\n",
        "  text_left, text_right = split_str(text)\n",
        "  text = sbox(text_left,s0) + sbox(text_right,s1)\n",
        "  text = xor(text,left)\n",
        "  return text,right"
      ],
      "metadata": {
        "id": "PIEJqpNUGU4y"
      },
      "execution_count": 11,
      "outputs": []
    },
    {
      "cell_type": "code",
      "source": [
        "def encrypt(plaintext, key):\n",
        "  k1,k2 = generate_subkey(key)\n",
        "  ciphertext = permutate(plaintext,IP)\n",
        "  left,right = split_str(ciphertext)\n",
        "  left,right = function(left,right,k1)\n",
        "  left,right = right,left\n",
        "  left,right = function(left,right,k2)\n",
        "  ciphertext = permutate(left+right,IP_INV)\n",
        "  return ciphertext"
      ],
      "metadata": {
        "id": "xu1heiTaCPyP"
      },
      "execution_count": 12,
      "outputs": []
    },
    {
      "cell_type": "code",
      "source": [
        "plaintext = \"10010111\"\n",
        "key = \"1010000010\"\n",
        "c = encrypt(plaintext,key)\n",
        "print(c)"
      ],
      "metadata": {
        "colab": {
          "base_uri": "https://localhost:8080/"
        },
        "id": "0wyT8CkYodP8",
        "outputId": "19e10934-1e8d-46c0-c32f-aac86f5e5095"
      },
      "execution_count": 13,
      "outputs": [
        {
          "output_type": "stream",
          "name": "stdout",
          "text": [
            "00111000\n"
          ]
        }
      ]
    },
    {
      "cell_type": "markdown",
      "source": [
        "## ICS3 Diffie Hellman"
      ],
      "metadata": {
        "id": "arDt2hpVo6J0"
      }
    },
    {
      "cell_type": "code",
      "source": [
        "import random"
      ],
      "metadata": {
        "id": "HdEV1dKgo2nH"
      },
      "execution_count": 14,
      "outputs": []
    },
    {
      "cell_type": "code",
      "source": [
        "def generate(n,g):\n",
        "  print(\"modulus\",n)\n",
        "  print(\"base\",g)\n",
        "  a = random.randint(2,1000)\n",
        "  b = random.randint(2,1000)\n",
        "\n",
        "  Ra = pow(g,a)%n\n",
        "  Rb = pow(g,b)%n\n",
        "\n",
        "  k1 = pow(Rb,a)%n\n",
        "  k2 = pow(Ra,b)%n\n",
        "\n",
        "  print(\"A's secret key:\",k1)\n",
        "  print(\"B's secret key:\",k2)\n",
        "\n",
        "generate(int(input(\"enter modulus\")),int(input(\"enter base\")))"
      ],
      "metadata": {
        "colab": {
          "base_uri": "https://localhost:8080/"
        },
        "id": "DUUA0L23pb67",
        "outputId": "99b9508c-d46c-4f14-be37-3796324556df"
      },
      "execution_count": 15,
      "outputs": [
        {
          "output_type": "stream",
          "name": "stdout",
          "text": [
            "enter modulus23\n",
            "enter base14\n",
            "modulus 23\n",
            "base 14\n",
            "A's secret key: 13\n",
            "B's secret key: 13\n"
          ]
        }
      ]
    },
    {
      "cell_type": "markdown",
      "source": [
        "## ICS4 RSA"
      ],
      "metadata": {
        "id": "BerWienRqfPg"
      }
    },
    {
      "cell_type": "code",
      "source": [
        "def gcd(a,b):\n",
        "  if a==0:\n",
        "    return b\n",
        "  return gcd(b%a,a)\n",
        "\n",
        "def mod_pow(a,b,m):\n",
        "  if b==0:\n",
        "    return 1\n",
        "  r = mod_pow(a,b//2,m)\n",
        "  r = (r*r)%m\n",
        "  if b%2==1:\n",
        "    r = (r*a)%m\n",
        "  return r"
      ],
      "metadata": {
        "id": "tYTLjKaXqOZs"
      },
      "execution_count": 16,
      "outputs": []
    },
    {
      "cell_type": "code",
      "source": [
        "P = 53\n",
        "Q = 59\n",
        "n = P*Q\n",
        "phi_n = (P-1)*(Q-1)"
      ],
      "metadata": {
        "id": "NxBKSMzFrLy4"
      },
      "execution_count": 17,
      "outputs": []
    },
    {
      "cell_type": "code",
      "source": [
        "e=2\n",
        "while e<phi_n:\n",
        "  if gcd(e,phi_n)==1:\n",
        "    break\n",
        "  e+=1"
      ],
      "metadata": {
        "id": "FnBhhzXcrcUB"
      },
      "execution_count": 18,
      "outputs": []
    },
    {
      "cell_type": "code",
      "source": [
        "k=1\n",
        "while (k*phi_n+1)%e!=0:\n",
        "  k+=1\n",
        "d = (k*phi_n+1)//e"
      ],
      "metadata": {
        "id": "zZHbXIsurxdK"
      },
      "execution_count": 19,
      "outputs": []
    },
    {
      "cell_type": "code",
      "source": [
        "public_key = [e,n]\n",
        "private_key = [d,n]"
      ],
      "metadata": {
        "id": "SSZWltTesAX6"
      },
      "execution_count": 20,
      "outputs": []
    },
    {
      "cell_type": "code",
      "source": [
        "def encrypt(P,public_key):\n",
        "  e,n = public_key\n",
        "  c = mod_pow(P,e,n)\n",
        "  return c"
      ],
      "metadata": {
        "id": "h5Zm87G4sHbY"
      },
      "execution_count": 21,
      "outputs": []
    },
    {
      "cell_type": "code",
      "source": [
        "def decrypt(C, private_key):\n",
        "  d,n = private_key\n",
        "  p = mod_pow(C,d,n)\n",
        "  return p"
      ],
      "metadata": {
        "id": "9lp3aKxBsWxC"
      },
      "execution_count": 22,
      "outputs": []
    },
    {
      "cell_type": "code",
      "source": [
        "plaintext = 89\n",
        "c = encrypt(plaintext,public_key)\n",
        "print(c)\n",
        "p = decrypt(c,private_key)"
      ],
      "metadata": {
        "colab": {
          "base_uri": "https://localhost:8080/"
        },
        "id": "Zqd-SQckskDY",
        "outputId": "c1293c11-9c40-4954-e6a1-cee3fb5631ee"
      },
      "execution_count": 25,
      "outputs": [
        {
          "output_type": "stream",
          "name": "stdout",
          "text": [
            "1394\n"
          ]
        }
      ]
    },
    {
      "cell_type": "code",
      "source": [
        "print (p)"
      ],
      "metadata": {
        "colab": {
          "base_uri": "https://localhost:8080/"
        },
        "id": "q1YeiD6Hswq4",
        "outputId": "e29005ac-3b38-45f7-c978-7b410d80e02f"
      },
      "execution_count": 26,
      "outputs": [
        {
          "output_type": "stream",
          "name": "stdout",
          "text": [
            "89\n"
          ]
        }
      ]
    },
    {
      "cell_type": "code",
      "source": [
        ""
      ],
      "metadata": {
        "id": "SF50mJBzsyxM"
      },
      "execution_count": null,
      "outputs": []
    },
    {
      "cell_type": "markdown",
      "source": [
        "## ICS5 ECC"
      ],
      "metadata": {
        "id": "RIJGr5FRtCN0"
      }
    },
    {
      "cell_type": "code",
      "source": [
        "import random\n",
        "import math"
      ],
      "metadata": {
        "id": "D9z683YktFFJ"
      },
      "execution_count": 27,
      "outputs": []
    },
    {
      "cell_type": "code",
      "source": [
        "def point(a,b):\n",
        "  if((4*(a**3)+27*(b**2))!=0):\n",
        "    x = 1\n",
        "    while True:\n",
        "      rhs = (x**3) + (a*x) + b\n",
        "      y = int(math.sqrt(rhs))\n",
        "      lhs = (y**2)\n",
        "      if(lhs==rhs):\n",
        "        return x,y\n",
        "      else:\n",
        "        x+=1\n",
        "  else:\n",
        "    print(\"enter another points\")"
      ],
      "metadata": {
        "id": "xgdJa2gwu888"
      },
      "execution_count": 30,
      "outputs": []
    },
    {
      "cell_type": "code",
      "source": [
        "a = int(input(\"coeff of a\"))\n",
        "b = int(input(\"coeff of b\"))\n",
        "priv_a = 13\n",
        "priv_b = 15\n",
        "generator = point(a,b)\n",
        "print(generator)"
      ],
      "metadata": {
        "colab": {
          "base_uri": "https://localhost:8080/"
        },
        "id": "GPSpSroivuuS",
        "outputId": "0b4ca7b9-f5fc-4298-e018-d3bf255e0e04"
      },
      "execution_count": 31,
      "outputs": [
        {
          "output_type": "stream",
          "name": "stdout",
          "text": [
            "coeff of a3\n",
            "coeff of b4\n",
            "(5, 12)\n"
          ]
        }
      ]
    },
    {
      "cell_type": "code",
      "source": [
        "m = int(input(\"plaintext:\"))"
      ],
      "metadata": {
        "colab": {
          "base_uri": "https://localhost:8080/"
        },
        "id": "mfviURRzwI2s",
        "outputId": "20f633b8-5131-4abf-9c48-cf0047521c67"
      },
      "execution_count": 32,
      "outputs": [
        {
          "name": "stdout",
          "output_type": "stream",
          "text": [
            "plaintext:10001010\n"
          ]
        }
      ]
    },
    {
      "cell_type": "code",
      "source": [
        "public_a = [priv_a * generator[0] , priv_a*generator[1]]\n",
        "print(public_a)\n",
        "public_b = [priv_b * generator[0], priv_b*generator[1]]\n",
        "print(public_b)"
      ],
      "metadata": {
        "colab": {
          "base_uri": "https://localhost:8080/"
        },
        "id": "mPteWHZEwPVy",
        "outputId": "92c524f4-3a1e-4579-97bc-7f51648f9670"
      },
      "execution_count": 36,
      "outputs": [
        {
          "output_type": "stream",
          "name": "stdout",
          "text": [
            "[65, 156]\n",
            "[75, 180]\n"
          ]
        }
      ]
    },
    {
      "cell_type": "code",
      "source": [
        "k = random.randint(0,10)\n",
        "c1 = k*(generator[0]+generator[1])\n",
        "c2 = m + (k* priv_b*(generator[0]+generator[1]))\n",
        "ciphertext = [c1,c2]\n",
        "print (ciphertext)"
      ],
      "metadata": {
        "colab": {
          "base_uri": "https://localhost:8080/"
        },
        "id": "mZrMILGBwiZN",
        "outputId": "6af0671f-ca30-4e91-8dcd-965d8f75f07c"
      },
      "execution_count": 37,
      "outputs": [
        {
          "output_type": "stream",
          "name": "stdout",
          "text": [
            "[119, 10002795]\n"
          ]
        }
      ]
    },
    {
      "cell_type": "code",
      "source": [
        "plaintext = c2 - priv_b*c1\n",
        "print(plaintext)"
      ],
      "metadata": {
        "colab": {
          "base_uri": "https://localhost:8080/"
        },
        "id": "sVHljPNRxfDt",
        "outputId": "32a2a5c3-ea0d-4192-93ec-3e091dff3411"
      },
      "execution_count": 38,
      "outputs": [
        {
          "output_type": "stream",
          "name": "stdout",
          "text": [
            "10001010\n"
          ]
        }
      ]
    },
    {
      "cell_type": "code",
      "source": [
        ""
      ],
      "metadata": {
        "id": "EAH0KNp2xrGh"
      },
      "execution_count": null,
      "outputs": []
    }
  ]
}